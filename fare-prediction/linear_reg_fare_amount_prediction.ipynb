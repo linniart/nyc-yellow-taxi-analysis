{
 "cells": [
  {
   "cell_type": "markdown",
   "metadata": {},
   "source": [
    "# Using Simple Linear Regression to Predict Total Amount and Tip Rate"
   ]
  },
  {
   "cell_type": "code",
   "execution_count": 1,
   "metadata": {},
   "outputs": [],
   "source": [
    "from google.cloud import bigquery\n",
    "from google.oauth2 import service_account\n",
    "credentials = service_account.Credentials.from_service_account_file(\n",
    "    './new-york-data-analysis-LT-b3f6a483fa4b.json')\n",
    "project_id = 'new-york-data-analysis-lt'\n",
    "client = bigquery.Client(credentials= credentials,project=project_id)"
   ]
  },
  {
   "cell_type": "markdown",
   "metadata": {},
   "source": [
    "### Getting random 1,000,000 million rows of cleaned data"
   ]
  },
  {
   "cell_type": "code",
   "execution_count": 37,
   "metadata": {},
   "outputs": [],
   "source": [
    "query_job = client.query(\"\"\"\n",
    "  WITH t2 AS\n",
    "(\n",
    "SELECT \n",
    "    t.*,\n",
    "    tz_pu.zone_id as pickup_zone_id,\n",
    "    tz_pu.zone_name as pickup_zone_name,\n",
    "    tz_pu.borough as pickup_borough,\n",
    "    tz_do.zone_id as dropoff_zone_id,\n",
    "    tz_do.zone_name as dropoff_zone_name,\n",
    "    tz_do.borough as dropoff_borough,\n",
    "    CONCAT(tz_pu.borough,\"-\",tz_do.borough) as route_borough,\n",
    "    CONCAT(tz_pu.zone_name,\"-\",tz_do.zone_name) as route_zone_name\n",
    "FROM\n",
    "(\n",
    "SELECT *,\n",
    "    TIMESTAMP_DIFF(dropoff_datetime,pickup_datetime,SECOND) as time_duration_in_secs,\n",
    "    ROUND(trip_distance/TIMESTAMP_DIFF(dropoff_datetime,pickup_datetime,SECOND),2)*3600 as driving_speed_miles_per_hour,\n",
    "    (CASE WHEN total_amount=0 THEN 0\n",
    "    ELSE ROUND(tip_amount*100/total_amount,2) END) as tip_rate,\n",
    "    EXTRACT(YEAR from pickup_datetime) as pickup_year,\n",
    "    EXTRACT(MONTH from pickup_datetime) as pickup_month,\n",
    "    CONCAT(CAST(EXTRACT(YEAR from pickup_datetime) as STRING),\"-\",CAST(EXTRACT(MONTH from pickup_datetime) AS STRING)) as pickup_yearmonth,\n",
    "    EXTRACT(DATE from pickup_datetime) as pickup_date,\n",
    "    FORMAT_DATE('%A',DATE(pickup_datetime)) as pickup_weekday_name,\n",
    "    EXTRACT(HOUR from pickup_datetime) as pickup_hour,\n",
    "    EXTRACT(YEAR from dropoff_datetime) as dropoff_year,\n",
    "    EXTRACT(MONTH from dropoff_datetime) as dropoff_month,\n",
    "    CONCAT(CAST(EXTRACT(YEAR from dropoff_datetime) as STRING),\"-\",CAST(EXTRACT(MONTH from dropoff_datetime) AS STRING)) as dropoff_yearmonth,\n",
    "    EXTRACT(DATE from dropoff_datetime) as dropoff_date,\n",
    "    FORMAT_DATE('%A',DATE(dropoff_datetime)) as dropoff_weekday_name,\n",
    "    EXTRACT(HOUR from dropoff_datetime) as dropoff_hour\n",
    "    \n",
    "FROM `bigquery-public-data.new_york.tlc_yellow_trips_2016`\n",
    "/* filter by latitude & longitude that are within the correct range */\n",
    "WHERE \n",
    "  ((pickup_latitude BETWEEN -90 AND 90) AND\n",
    "  (pickup_longitude BETWEEN -180 AND 180)) \n",
    "AND\n",
    "  ((dropoff_latitude BETWEEN -90 AND 90) AND\n",
    "  (dropoff_longitude BETWEEN -180 AND 180))\n",
    ") t\n",
    "/* find the boroughs and zone names for dropoff locations */\n",
    "INNER JOIN `bigquery-public-data.new_york_taxi_trips.taxi_zone_geom` tz_do ON \n",
    "(ST_DWithin(tz_do.zone_geom,ST_GeogPoint(dropoff_longitude, dropoff_latitude), 0))\n",
    "/* find the boroughs and zone names for pickup locations */\n",
    "INNER JOIN `bigquery-public-data.new_york_taxi_trips.taxi_zone_geom` tz_pu ON \n",
    "(ST_DWithin(tz_pu.zone_geom,ST_GeogPoint(pickup_longitude, pickup_latitude), 0))\n",
    "WHERE \n",
    "    pickup_datetime BETWEEN '2016-01-01' AND '2016-12-31' \n",
    "    AND dropoff_datetime BETWEEN '2016-01-01' AND '2016-12-31'\n",
    "    AND TIMESTAMP_DIFF(dropoff_datetime,pickup_datetime,SECOND) > 0\n",
    "    AND passenger_count > 0\n",
    "    AND trip_distance >= 0 \n",
    "    AND tip_amount >= 0 \n",
    "    AND tolls_amount >= 0 \n",
    "    AND mta_tax >= 0 \n",
    "    AND fare_amount >= 0\n",
    "    AND total_amount >= 0\n",
    ")\n",
    "\n",
    "\n",
    "SELECT\n",
    "pickup_datetime,dropoff_datetime,passenger_count,trip_distance,\n",
    "pickup_longitude,pickup_latitude,dropoff_longitude,dropoff_latitude,\n",
    "rate_code,payment_type,total_amount,tip_amount,time_duration_in_secs,tip_rate,\n",
    "pickup_weekday_name,pickup_hour,pickup_borough,pickup_zone_id,dropoff_borough,dropoff_zone_id\n",
    "\n",
    "FROM\n",
    "t2\n",
    "ORDER BY RAND()\n",
    "LIMIT 1000000\n",
    "  \n",
    "  \"\"\")\n",
    "results = query_job.result()\n"
   ]
  },
  {
   "cell_type": "code",
   "execution_count": 38,
   "metadata": {},
   "outputs": [],
   "source": [
    "import pandas as pd\n",
    "import matplotlib.pyplot as plt\n",
    "import seaborn as sns\n",
    "import numpy as np"
   ]
  },
  {
   "cell_type": "code",
   "execution_count": 39,
   "metadata": {},
   "outputs": [],
   "source": [
    "df=results.to_dataframe()"
   ]
  },
  {
   "cell_type": "code",
   "execution_count": 40,
   "metadata": {},
   "outputs": [],
   "source": [
    "data=df.copy()"
   ]
  },
  {
   "cell_type": "code",
   "execution_count": 42,
   "metadata": {},
   "outputs": [
    {
     "name": "stdout",
     "output_type": "stream",
     "text": [
      "<class 'pandas.core.frame.DataFrame'>\n",
      "Int64Index: 1000000 entries, 0 to 22085\n",
      "Data columns (total 20 columns):\n",
      "pickup_datetime          1000000 non-null datetime64[ns, UTC]\n",
      "dropoff_datetime         1000000 non-null datetime64[ns, UTC]\n",
      "passenger_count          1000000 non-null int64\n",
      "trip_distance            1000000 non-null float64\n",
      "pickup_longitude         1000000 non-null float64\n",
      "pickup_latitude          1000000 non-null float64\n",
      "dropoff_longitude        1000000 non-null float64\n",
      "dropoff_latitude         1000000 non-null float64\n",
      "rate_code                1000000 non-null int64\n",
      "payment_type             1000000 non-null object\n",
      "total_amount             1000000 non-null float64\n",
      "tip_amount               1000000 non-null float64\n",
      "time_duration_in_secs    1000000 non-null int64\n",
      "tip_rate                 1000000 non-null float64\n",
      "pickup_weekday_name      1000000 non-null object\n",
      "pickup_hour              1000000 non-null int64\n",
      "pickup_borough           1000000 non-null object\n",
      "pickup_zone_id           1000000 non-null object\n",
      "dropoff_borough          1000000 non-null object\n",
      "dropoff_zone_id          1000000 non-null object\n",
      "dtypes: datetime64[ns, UTC](2), float64(8), int64(4), object(6)\n",
      "memory usage: 160.2+ MB\n"
     ]
    }
   ],
   "source": [
    "data.info()"
   ]
  },
  {
   "cell_type": "markdown",
   "metadata": {},
   "source": [
    "### Remove outliers\n",
    "Some trip_distance and time_duration_in_secs values are extremely large. I will remove these obvious outliers from the dataset."
   ]
  },
  {
   "cell_type": "code",
   "execution_count": 47,
   "metadata": {},
   "outputs": [],
   "source": [
    "#remove outliers\n",
    "data=data[data.trip_distance<=100000]\n",
    "data=data[data.time_duration_in_secs<=100000]"
   ]
  },
  {
   "cell_type": "markdown",
   "metadata": {},
   "source": [
    "## Scatter plot showing relationship between trip distance and total amount\n",
    "The Pearson's correlation of trip_distance and total_amount is 0.92, showing a strong correlation between these two variables."
   ]
  },
  {
   "cell_type": "code",
   "execution_count": 49,
   "metadata": {},
   "outputs": [
    {
     "data": {
      "text/plain": [
       "<matplotlib.collections.PathCollection at 0x13f3f3e48>"
      ]
     },
     "execution_count": 49,
     "metadata": {},
     "output_type": "execute_result"
    },
    {
     "data": {
      "image/png": "[encoded data removed]",
      "text/plain": [
       "<Figure size 432x288 with 1 Axes>"
      ]
     },
     "metadata": {},
     "output_type": "display_data"
    }
   ],
   "source": [
    "plt.scatter(data.trip_distance,data.total_amount)"
   ]
  },
  {
   "cell_type": "code",
   "execution_count": 52,
   "metadata": {},
   "outputs": [
    {
     "data": {
      "text/plain": [
       "(0.9214358760818963, 0.0)"
      ]
     },
     "execution_count": 52,
     "metadata": {},
     "output_type": "execute_result"
    }
   ],
   "source": [
    "from scipy import stats\n",
    "stats.pearsonr(data.trip_distance,data.total_amount)"
   ]
  },
  {
   "cell_type": "markdown",
   "metadata": {},
   "source": [
    "## Scatter plot showing relationship between time_duration_in_secs and total amount\n",
    "The plot does not show strong correlation between trip duration and total amount"
   ]
  },
  {
   "cell_type": "code",
   "execution_count": 54,
   "metadata": {},
   "outputs": [
    {
     "data": {
      "text/plain": [
       "<matplotlib.collections.PathCollection at 0x1a697226d8>"
      ]
     },
     "execution_count": 54,
     "metadata": {},
     "output_type": "execute_result"
    },
    {
     "data": {
      "image/png": "[encoded data removed]",
      "text/plain": [
       "<Figure size 432x288 with 1 Axes>"
      ]
     },
     "metadata": {},
     "output_type": "display_data"
    }
   ],
   "source": [
    "plt.scatter(data.time_duration_in_secs,data.total_amount)"
   ]
  },
  {
   "cell_type": "code",
   "execution_count": 55,
   "metadata": {},
   "outputs": [
    {
     "data": {
      "text/plain": [
       "(0.16701985906979622, 0.0)"
      ]
     },
     "execution_count": 55,
     "metadata": {},
     "output_type": "execute_result"
    }
   ],
   "source": [
    "stats.pearsonr(data.time_duration_in_secs,data.total_amount)"
   ]
  },
  {
   "cell_type": "markdown",
   "metadata": {},
   "source": [
    "### Predicting total amount: Linear Regression"
   ]
  },
  {
   "cell_type": "code",
   "execution_count": 60,
   "metadata": {},
   "outputs": [
    {
     "name": "stdout",
     "output_type": "stream",
     "text": [
      "Prediction\n",
      " [10.83824432 16.26999609 11.60741989 ... 16.16553833 16.13452438\n",
      " 14.74041533]\n",
      "Actual\n",
      " [11.15 22.56 10.3  ... 20.75 20.16 13.3 ]\n",
      "R_squared Score: 0.8938700850000085\n",
      "MAE: 2.174270866877639\n",
      "RMSE: 4.198184002254333\n"
     ]
    }
   ],
   "source": [
    "#columns that will be used for the prediction\n",
    "use_columns=['passenger_count',\n",
    "       'trip_distance', 'pickup_longitude', 'pickup_latitude',\n",
    "       'dropoff_longitude', 'dropoff_latitude', 'rate_code', 'payment_type',\n",
    "       'time_duration_in_secs','pickup_weekday_name', 'pickup_hour', 'pickup_borough',\n",
    "       'dropoff_borough','total_amount']\n",
    "data_2=data[use_columns].copy()\n",
    "\n",
    "#categorical columns that need to be one-hot-encoded\n",
    "one_hot_columns=['rate_code','payment_type','pickup_weekday_name','pickup_hour',\n",
    "                'pickup_borough','dropoff_borough']\n",
    "\n",
    "#one-hot encoding\n",
    "data_2=pd.get_dummies(data=data_2,columns=one_hot_columns)\n",
    "\n",
    "#columns to drop after one-hot encoding to avoid dummy variable trap\n",
    "columns_to_drop_after_onehot=['rate_code_1','payment_type_1','pickup_weekday_name_Monday',\n",
    "                         'pickup_hour_0','pickup_borough_Bronx','dropoff_borough_Bronx']\n",
    "\n",
    "#drop columns to avoid dummy variable trap\n",
    "data_2.drop(columns_to_drop_after_onehot,axis=1,inplace=True)\n",
    "\n",
    "#remove total_amount column\n",
    "X=data_2.drop(['total_amount'],axis=1).values\n",
    "\n",
    "#target column is total_amount\n",
    "y=data_2['total_amount'].values\n",
    "\n",
    "from sklearn.model_selection import train_test_split\n",
    "X_train,X_test,y_train,y_test=train_test_split(X,y,test_size=0.2,random_state=0)\n",
    "\n",
    "from sklearn.preprocessing import StandardScaler\n",
    "sc_X=StandardScaler()\n",
    "X_train=sc_X.fit_transform(X_train)\n",
    "X_test=sc_X.transform(X_test)\n",
    "\n",
    "from sklearn.linear_model import LinearRegression\n",
    "regressor=LinearRegression()\n",
    "regressor.fit(X_train,y_train)\n",
    "\n",
    "y_pred=regressor.predict(X_test)\n",
    "print(\"Prediction\\n\",y_pred)\n",
    "print(\"Actual\\n\",y_test)\n",
    "\n",
    "print(\"R_squared Score:\",regressor.score(X_test,y_test))\n",
    "\n",
    "from sklearn.metrics import mean_absolute_error\n",
    "mae = mean_absolute_error(y_test,y_pred)\n",
    "print(\"MAE:\",mae)\n",
    "\n",
    "from sklearn.metrics import mean_squared_error\n",
    "print(\"RMSE:\",mean_squared_error(y_test,y_pred)**0.5)"
   ]
  },
  {
   "cell_type": "code",
   "execution_count": 64,
   "metadata": {},
   "outputs": [
    {
     "name": "stdout",
     "output_type": "stream",
     "text": [
      "Range of total amount: (0.0, 867.3)\n"
     ]
    }
   ],
   "source": [
    "print(\"Range of total amount:\", (data_2.total_amount.min(),data_2.total_amount.max()))"
   ]
  },
  {
   "cell_type": "markdown",
   "metadata": {},
   "source": [
    "### Predicting tip rate: Linear Regression"
   ]
  },
  {
   "cell_type": "code",
   "execution_count": 80,
   "metadata": {},
   "outputs": [
    {
     "name": "stdout",
     "output_type": "stream",
     "text": [
      "Prediction\n",
      " [15.50282892 15.50074233 15.62410857 ... 15.60428409 15.57719728\n",
      " -0.16544059]\n",
      "Actual\n",
      " [16.59 16.67  9.71 ... 16.63 16.67  0.  ]\n",
      "R_squared Score: 0.7440795292705931\n",
      "MAE: 2.4103793168303294\n",
      "RMSE: 4.271338805126146\n"
     ]
    }
   ],
   "source": [
    "#columns that will be used for the prediction\n",
    "use_columns=['passenger_count',\n",
    "       'trip_distance', 'pickup_longitude', 'pickup_latitude',\n",
    "       'dropoff_longitude', 'dropoff_latitude', 'rate_code', 'payment_type',\n",
    "       'time_duration_in_secs','pickup_weekday_name', 'pickup_hour', 'pickup_borough',\n",
    "       'dropoff_borough','tip_rate']\n",
    "data_2=data[use_columns].copy()\n",
    "\n",
    "#categorical columns that need to be one-hot-encoded\n",
    "one_hot_columns=['rate_code','payment_type','pickup_weekday_name','pickup_hour',\n",
    "                'pickup_borough','dropoff_borough']\n",
    "\n",
    "#one-hot encoding\n",
    "data_2=pd.get_dummies(data=data_2,columns=one_hot_columns)\n",
    "\n",
    "#columns to drop after one-hot encoding to avoid dummy variable trap\n",
    "columns_to_drop_after_onehot=['rate_code_1','payment_type_1','pickup_weekday_name_Monday',\n",
    "                         'pickup_hour_0','pickup_borough_Bronx','dropoff_borough_Bronx']\n",
    "\n",
    "#drop columns to avoid dummy variable trap\n",
    "data_2.drop(columns_to_drop_after_onehot,axis=1,inplace=True)\n",
    "\n",
    "#remove total_amount column\n",
    "X=data_2.drop(['tip_rate'],axis=1).values\n",
    "\n",
    "#target column is total_amount\n",
    "y=data_2['tip_rate'].values\n",
    "\n",
    "from sklearn.model_selection import train_test_split\n",
    "X_train,X_test,y_train,y_test=train_test_split(X,y,test_size=0.2,random_state=0)\n",
    "\n",
    "from sklearn.preprocessing import StandardScaler\n",
    "sc_X=StandardScaler()\n",
    "X_train=sc_X.fit_transform(X_train)\n",
    "X_test=sc_X.transform(X_test)\n",
    "\n",
    "from sklearn.linear_model import LinearRegression\n",
    "regressor=LinearRegression()\n",
    "regressor.fit(X_train,y_train)\n",
    "\n",
    "y_pred=regressor.predict(X_test)\n",
    "print(\"Prediction\\n\",y_pred)\n",
    "print(\"Actual\\n\",y_test)\n",
    "\n",
    "print(\"R_squared Score:\",regressor.score(X_test,y_test))\n",
    "\n",
    "from sklearn.metrics import mean_absolute_error\n",
    "mae = mean_absolute_error(y_test,y_pred)\n",
    "print(\"MAE:\",mae)\n",
    "\n",
    "from sklearn.metrics import mean_squared_error\n",
    "print(\"RMSE:\",mean_squared_error(y_test,y_pred)**0.5)"
   ]
  }
 ],
 "metadata": {
  "kernelspec": {
   "display_name": "Python 3",
   "language": "python",
   "name": "python3"
  },
  "language_info": {
   "codemirror_mode": {
    "name": "ipython",
    "version": 3
   },
   "file_extension": ".py",
   "mimetype": "text/x-python",
   "name": "python",
   "nbconvert_exporter": "python",
   "pygments_lexer": "ipython3",
   "version": "3.6.4"
  }
 },
 "nbformat": 4,
 "nbformat_minor": 2
}
